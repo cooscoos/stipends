{
 "cells": [
  {
   "cell_type": "markdown",
   "metadata": {},
   "source": [
    "# UK PhD stipends: the last decade\n",
    "\n",
    "This notebook displays the same time series data shown on the streamlit webpage."
   ]
  },
  {
   "cell_type": "code",
   "execution_count": 5,
   "metadata": {},
   "outputs": [],
   "source": [
    "from pathlib import Path\n",
    "from lib import myplots"
   ]
  },
  {
   "cell_type": "code",
   "execution_count": 6,
   "metadata": {},
   "outputs": [
    {
     "data": {
      "text/html": [
       "\n",
       "<style>\n",
       "  #altair-viz-6433f61839db48dbba1ca68c64265770.vega-embed {\n",
       "    width: 100%;\n",
       "    display: flex;\n",
       "  }\n",
       "\n",
       "  #altair-viz-6433f61839db48dbba1ca68c64265770.vega-embed details,\n",
       "  #altair-viz-6433f61839db48dbba1ca68c64265770.vega-embed details summary {\n",
       "    position: relative;\n",
       "  }\n",
       "</style>\n",
       "<div id=\"altair-viz-6433f61839db48dbba1ca68c64265770\"></div>\n",
       "<script type=\"text/javascript\">\n",
       "  var VEGA_DEBUG = (typeof VEGA_DEBUG == \"undefined\") ? {} : VEGA_DEBUG;\n",
       "  (function(spec, embedOpt){\n",
       "    let outputDiv = document.currentScript.previousElementSibling;\n",
       "    if (outputDiv.id !== \"altair-viz-6433f61839db48dbba1ca68c64265770\") {\n",
       "      outputDiv = document.getElementById(\"altair-viz-6433f61839db48dbba1ca68c64265770\");\n",
       "    }\n",
       "    const paths = {\n",
       "      \"vega\": \"https://cdn.jsdelivr.net/npm/vega@5?noext\",\n",
       "      \"vega-lib\": \"https://cdn.jsdelivr.net/npm/vega-lib?noext\",\n",
       "      \"vega-lite\": \"https://cdn.jsdelivr.net/npm/vega-lite@5.20.1?noext\",\n",
       "      \"vega-embed\": \"https://cdn.jsdelivr.net/npm/vega-embed@6?noext\",\n",
       "    };\n",
       "\n",
       "    function maybeLoadScript(lib, version) {\n",
       "      var key = `${lib.replace(\"-\", \"\")}_version`;\n",
       "      return (VEGA_DEBUG[key] == version) ?\n",
       "        Promise.resolve(paths[lib]) :\n",
       "        new Promise(function(resolve, reject) {\n",
       "          var s = document.createElement('script');\n",
       "          document.getElementsByTagName(\"head\")[0].appendChild(s);\n",
       "          s.async = true;\n",
       "          s.onload = () => {\n",
       "            VEGA_DEBUG[key] = version;\n",
       "            return resolve(paths[lib]);\n",
       "          };\n",
       "          s.onerror = () => reject(`Error loading script: ${paths[lib]}`);\n",
       "          s.src = paths[lib];\n",
       "        });\n",
       "    }\n",
       "\n",
       "    function showError(err) {\n",
       "      outputDiv.innerHTML = `<div class=\"error\" style=\"color:red;\">${err}</div>`;\n",
       "      throw err;\n",
       "    }\n",
       "\n",
       "    function displayChart(vegaEmbed) {\n",
       "      vegaEmbed(outputDiv, spec, embedOpt)\n",
       "        .catch(err => showError(`Javascript Error: ${err.message}<br>This usually means there's a typo in your chart specification. See the javascript console for the full traceback.`));\n",
       "    }\n",
       "\n",
       "    if(typeof define === \"function\" && define.amd) {\n",
       "      requirejs.config({paths});\n",
       "      require([\"vega-embed\"], displayChart, err => showError(`Error loading script: ${err.message}`));\n",
       "    } else {\n",
       "      maybeLoadScript(\"vega\", \"5\")\n",
       "        .then(() => maybeLoadScript(\"vega-lite\", \"5.20.1\"))\n",
       "        .then(() => maybeLoadScript(\"vega-embed\", \"6\"))\n",
       "        .catch(showError)\n",
       "        .then(() => displayChart(vegaEmbed));\n",
       "    }\n",
       "  })({\"config\": {\"view\": {\"continuousWidth\": 300, \"continuousHeight\": 300}}, \"data\": {\"name\": \"data-6f63720cff033302cfbb29bd0a20c370\"}, \"mark\": {\"type\": \"line\", \"point\": {\"fill\": \"white\", \"filled\": false}}, \"encoding\": {\"color\": {\"field\": \"income_type\", \"legend\": {\"title\": \"Income type\"}, \"type\": \"nominal\"}, \"x\": {\"field\": \"year\", \"type\": \"ordinal\"}, \"y\": {\"axis\": {\"title\": \"Real annual net income (\\u00a3)\"}, \"field\": \"income\", \"scale\": {\"domain\": [12000, 19000]}, \"type\": \"quantitative\"}}, \"height\": 450, \"width\": 600, \"$schema\": \"https://vega.github.io/schema/vega-lite/v5.20.1.json\", \"datasets\": {\"data-6f63720cff033302cfbb29bd0a20c370\": [{\"year\": 2012, \"income_type\": \"NLW\", \"income\": 12694.4275}, {\"year\": 2013, \"income_type\": \"NLW\", \"income\": 13209.13197556008}, {\"year\": 2014, \"income_type\": \"NLW\", \"income\": 13697.965863453815}, {\"year\": 2015, \"income_type\": \"NLW\", \"income\": 14009.684000000001}, {\"year\": 2016, \"income_type\": \"NLW\", \"income\": 14902.320792079208}, {\"year\": 2017, \"income_type\": \"NLW\", \"income\": 15162.635135135137}, {\"year\": 2018, \"income_type\": \"NLW\", \"income\": 15440.249811320751}, {\"year\": 2019, \"income_type\": \"NLW\", \"income\": 15962.38552875696}, {\"year\": 2020, \"income_type\": \"NLW\", \"income\": 16672.1810835629}, {\"year\": 2021, \"income_type\": \"NLW\", \"income\": 16576.954838709677}, {\"year\": 2022, \"income_type\": \"NLW\", \"income\": 16265.498755186722}, {\"year\": 2023, \"income_type\": \"NLW\", \"income\": 16591.2}, {\"year\": 2024, \"income_type\": \"NLW\", \"income\": 17653.130804248864}, {\"year\": 2012, \"income_type\": \"RLW\", \"income\": 15327.5125}, {\"year\": 2013, \"income_type\": \"RLW\", \"income\": 15946.661914460283}, {\"year\": 2014, \"income_type\": \"RLW\", \"income\": 16417.158634538155}, {\"year\": 2015, \"income_type\": \"RLW\", \"income\": 17119.232}, {\"year\": 2016, \"income_type\": \"RLW\", \"income\": 17385.19207920792}, {\"year\": 2017, \"income_type\": \"RLW\", \"income\": 17583.19498069498}, {\"year\": 2018, \"income_type\": \"RLW\", \"income\": 17654.59622641509}, {\"year\": 2019, \"income_type\": \"RLW\", \"income\": 17990.87755102041}, {\"year\": 2020, \"income_type\": \"RLW\", \"income\": 18109.10009182736}, {\"year\": 2021, \"income_type\": \"RLW\", \"income\": 18356.612903225807}, {\"year\": 2022, \"income_type\": \"RLW\", \"income\": 18596.30705394191}, {\"year\": 2023, \"income_type\": \"RLW\", \"income\": 19056.0}, {\"year\": 2024, \"income_type\": \"RLW\", \"income\": 18505.520485584217}, {\"year\": 2012, \"income_type\": \"Stipend\", \"income\": 18204.9375}, {\"year\": 2013, \"income_type\": \"Stipend\", \"income\": 18053.763747454173}, {\"year\": 2014, \"income_type\": \"Stipend\", \"income\": 17899.415662650605}, {\"year\": 2015, \"income_type\": \"Stipend\", \"income\": 18077.302}, {\"year\": 2016, \"income_type\": \"Stipend\", \"income\": 18202.6297029703}, {\"year\": 2017, \"income_type\": \"Stipend\", \"income\": 18064.824324324327}, {\"year\": 2018, \"income_type\": \"Stipend\", \"income\": 17927.5679245283}, {\"year\": 2019, \"income_type\": \"Stipend\", \"income\": 17904.985157699444}, {\"year\": 2020, \"income_type\": \"Stipend\", \"income\": 18050.05509641873}, {\"year\": 2021, \"income_type\": \"Stipend\", \"income\": 17986.71505376344}, {\"year\": 2022, \"income_type\": \"Stipend\", \"income\": 17141.68630705394}, {\"year\": 2023, \"income_type\": \"Stipend\", \"income\": 17668.0}, {\"year\": 2024, \"income_type\": \"Stipend\", \"income\": 18769.940819423366}]}}, {\"mode\": \"vega-lite\"});\n",
       "</script>"
      ],
      "text/plain": [
       "alt.Chart(...)"
      ]
     },
     "execution_count": 6,
     "metadata": {},
     "output_type": "execute_result"
    }
   ],
   "source": [
    "INPUT_DIR = Path.cwd()  / \"input\"\n",
    "c = myplots.time_series(INPUT_DIR)\n",
    "c= c.properties(width=600)\n",
    "c"
   ]
  },
  {
   "cell_type": "code",
   "execution_count": null,
   "metadata": {},
   "outputs": [],
   "source": []
  }
 ],
 "metadata": {
  "kernelspec": {
   "display_name": "stipdends2",
   "language": "python",
   "name": "python3"
  },
  "language_info": {
   "codemirror_mode": {
    "name": "ipython",
    "version": 3
   },
   "file_extension": ".py",
   "mimetype": "text/x-python",
   "name": "python",
   "nbconvert_exporter": "python",
   "pygments_lexer": "ipython3",
   "version": "3.10.12"
  }
 },
 "nbformat": 4,
 "nbformat_minor": 2
}
